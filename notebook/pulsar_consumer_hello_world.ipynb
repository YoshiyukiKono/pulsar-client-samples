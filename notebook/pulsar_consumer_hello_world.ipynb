{
  "nbformat": 4,
  "nbformat_minor": 0,
  "metadata": {
    "colab": {
      "provenance": [],
      "include_colab_link": true
    },
    "kernelspec": {
      "name": "python3",
      "display_name": "Python 3"
    },
    "language_info": {
      "name": "python"
    }
  },
  "cells": [
    {
      "cell_type": "markdown",
      "metadata": {
        "id": "view-in-github",
        "colab_type": "text"
      },
      "source": [
        "<a href=\"https://colab.research.google.com/github/YoshiyukiKono/pulsar-client-samples/blob/main/notebook/pulsar_consumer_hello_world.ipynb\" target=\"_parent\"><img src=\"https://colab.research.google.com/assets/colab-badge.svg\" alt=\"Open In Colab\"/></a>"
      ]
    },
    {
      "cell_type": "markdown",
      "source": [
        "# Pulsar クライアント Hello World!"
      ],
      "metadata": {
        "id": "vQoROq-Z4dXI"
      }
    },
    {
      "cell_type": "code",
      "source": [
        "!pip install pulsar-client"
      ],
      "metadata": {
        "colab": {
          "base_uri": "https://localhost:8080/"
        },
        "id": "GSMV-zHNZW8U",
        "outputId": "e7680416-9df5-4658-906a-e2ce2e66d8c0"
      },
      "execution_count": 1,
      "outputs": [
        {
          "output_type": "stream",
          "name": "stdout",
          "text": [
            "Requirement already satisfied: pulsar-client in /usr/local/lib/python3.10/dist-packages (3.3.0)\n",
            "Requirement already satisfied: certifi in /usr/local/lib/python3.10/dist-packages (from pulsar-client) (2023.7.22)\n"
          ]
        }
      ]
    },
    {
      "cell_type": "code",
      "source": [
        "service_url = input()"
      ],
      "metadata": {
        "id": "GHCnV6Muaix-",
        "outputId": "7c35bb5f-fe30-48b2-ba12-812b15e4160d",
        "colab": {
          "base_uri": "https://localhost:8080/"
        }
      },
      "execution_count": 2,
      "outputs": [
        {
          "name": "stdout",
          "output_type": "stream",
          "text": [
            "pulsar+ssl://pulsar-gcp-australiase1.streaming.datastax.com:6651 [ ]\n"
          ]
        }
      ]
    },
    {
      "cell_type": "code",
      "source": [
        "import getpass\n",
        "\n",
        "token = getpass.getpass()"
      ],
      "metadata": {
        "id": "xRkA8DkPajAg",
        "outputId": "9db7d744-07c7-4e4c-94b7-1feb4c76bcb8",
        "colab": {
          "base_uri": "https://localhost:8080/"
        }
      },
      "execution_count": 3,
      "outputs": [
        {
          "name": "stdout",
          "output_type": "stream",
          "text": [
            "··········\n"
          ]
        }
      ]
    },
    {
      "cell_type": "code",
      "source": [
        "your_tenant_name = input()\n",
        "your_namespace = input()\n"
      ],
      "metadata": {
        "id": "fv8004IM0hX8",
        "outputId": "d2c88701-a701-41f4-ddb3-72ab15393374",
        "colab": {
          "base_uri": "https://localhost:8080/"
        }
      },
      "execution_count": 4,
      "outputs": [
        {
          "name": "stdout",
          "output_type": "stream",
          "text": [
            "ykono\n",
            "default\n"
          ]
        }
      ]
    },
    {
      "cell_type": "code",
      "source": [
        "your_topic_name = input()"
      ],
      "metadata": {
        "id": "-cmVcFlh1e5n",
        "outputId": "b27c704b-f4a1-4c57-fc36-d37c8b98de16",
        "colab": {
          "base_uri": "https://localhost:8080/"
        }
      },
      "execution_count": 5,
      "outputs": [
        {
          "name": "stdout",
          "output_type": "stream",
          "text": [
            "test\n"
          ]
        }
      ]
    },
    {
      "cell_type": "code",
      "source": [
        "topic_url = 'persistent://' + your_tenant_name + '/' + your_namespace + '/' + your_topic_name\n",
        "print(topic_url)"
      ],
      "metadata": {
        "id": "kw9AnqTu07eS",
        "outputId": "517fd3c6-e896-478c-efda-b03990d45a0d",
        "colab": {
          "base_uri": "https://localhost:8080/"
        }
      },
      "execution_count": 6,
      "outputs": [
        {
          "output_type": "stream",
          "name": "stdout",
          "text": [
            "persistent://ykono/default/test\n"
          ]
        }
      ]
    },
    {
      "cell_type": "markdown",
      "source": [
        "## プロデューサー"
      ],
      "metadata": {
        "id": "q9xRDdkn4aAA"
      }
    },
    {
      "cell_type": "code",
      "source": [
        "import pulsar\n",
        "\n",
        "client = pulsar.Client(service_url,\n",
        "                        authentication=pulsar.AuthenticationToken(token))\n",
        "\n",
        "producer = client.create_producer(topic_url)\n",
        "\n",
        "for i in range(10):\n",
        "    producer.send(('Hello World! %d' % i).encode('utf-8'))\n",
        "\n",
        "client.close()"
      ],
      "metadata": {
        "id": "L2KKIDI31QSr"
      },
      "execution_count": null,
      "outputs": []
    },
    {
      "cell_type": "markdown",
      "source": [
        "## コンシューマー"
      ],
      "metadata": {
        "id": "UVE0pp8t16Yl"
      }
    },
    {
      "cell_type": "code",
      "source": [
        "import pulsar\n",
        "import time\n",
        "\n",
        "MODE_RUNNING = True\n",
        "\n",
        "subscription_name = 'sub01'\n",
        "\n",
        "\n",
        "client = pulsar.Client(service_url,\n",
        "                        authentication=pulsar.AuthenticationToken(token))\n",
        "\n",
        "consumer = client.subscribe(topic_url, subscription_name)\n",
        "\n",
        "\n",
        "try:\n",
        "    waitingForMsg = True\n",
        "    while waitingForMsg:\n",
        "        try:\n",
        "            msg = consumer.receive(2000)\n",
        "            print(\"Received message '{}' id='{}'\".format(msg.data(), msg.message_id()))\n",
        "\n",
        "            # Acknowledging the message to remove from message backlog\n",
        "            consumer.acknowledge(msg)\n",
        "\n",
        "        except Exception as ex:\n",
        "            print(ex)\n",
        "            if MODE_RUNNING:\n",
        "                print(\"Still waiting for a message...\");\n",
        "            else:\n",
        "                print(\"Stop waiting for a message.\");\n",
        "                waitingForMsg = False\n",
        "        time.sleep(1)\n",
        "\n",
        "finally:\n",
        "  consumer.unsubscribe()\n",
        "  client.close()"
      ],
      "metadata": {
        "id": "LbLUaNjg1_Be"
      },
      "execution_count": null,
      "outputs": []
    },
    {
      "cell_type": "code",
      "source": [],
      "metadata": {
        "id": "H17TG4RwZYlc"
      },
      "execution_count": null,
      "outputs": []
    }
  ]
}