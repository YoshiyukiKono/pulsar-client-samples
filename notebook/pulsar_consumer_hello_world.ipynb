{
  "nbformat": 4,
  "nbformat_minor": 0,
  "metadata": {
    "colab": {
      "provenance": [],
      "include_colab_link": true
    },
    "kernelspec": {
      "name": "python3",
      "display_name": "Python 3"
    },
    "language_info": {
      "name": "python"
    }
  },
  "cells": [
    {
      "cell_type": "markdown",
      "metadata": {
        "id": "view-in-github",
        "colab_type": "text"
      },
      "source": [
        "<a href=\"https://colab.research.google.com/github/YoshiyukiKono/pulsar-client-samples/blob/main/notebook/pulsar_consumer_hello_world.ipynb\" target=\"_parent\"><img src=\"https://colab.research.google.com/assets/colab-badge.svg\" alt=\"Open In Colab\"/></a>"
      ]
    },
    {
      "cell_type": "markdown",
      "source": [
        "# Pulsar コンシューマー Hello World!"
      ],
      "metadata": {
        "id": "vQoROq-Z4dXI"
      }
    },
    {
      "cell_type": "code",
      "source": [
        "!pip install pulsar-client"
      ],
      "metadata": {
        "colab": {
          "base_uri": "https://localhost:8080/"
        },
        "id": "GSMV-zHNZW8U",
        "outputId": "2a773b00-9244-45a4-eae5-c13c6b99c6ed"
      },
      "execution_count": 4,
      "outputs": [
        {
          "output_type": "stream",
          "name": "stdout",
          "text": [
            "Collecting pulsar-client\n",
            "  Downloading pulsar_client-3.3.0-cp310-cp310-manylinux_2_17_x86_64.manylinux2014_x86_64.whl (5.4 MB)\n",
            "\u001b[2K     \u001b[90m━━━━━━━━━━━━━━━━━━━━━━━━━━━━━━━━━━━━━━━━\u001b[0m \u001b[32m5.4/5.4 MB\u001b[0m \u001b[31m38.1 MB/s\u001b[0m eta \u001b[36m0:00:00\u001b[0m\n",
            "\u001b[?25hRequirement already satisfied: certifi in /usr/local/lib/python3.10/dist-packages (from pulsar-client) (2023.7.22)\n",
            "Installing collected packages: pulsar-client\n",
            "Successfully installed pulsar-client-3.3.0\n"
          ]
        }
      ]
    },
    {
      "cell_type": "code",
      "source": [
        "service_url = input()"
      ],
      "metadata": {
        "id": "GHCnV6Muaix-",
        "colab": {
          "base_uri": "https://localhost:8080/"
        },
        "outputId": "59d9bc46-38a9-46ba-bd95-ccc3ed478ea5"
      },
      "execution_count": 1,
      "outputs": [
        {
          "output_type": "stream",
          "name": "stdout",
          "text": [
            "pulsar+ssl://pulsar-gcp-australiase1.streaming.datastax.com:6651\n",
            "pulsar+ssl://pulsar-gcp-australiase1.streaming.datastax.com:6651\n"
          ]
        }
      ]
    },
    {
      "cell_type": "code",
      "source": [
        "import getpass\n",
        "\n",
        "token = getpass.getpass()"
      ],
      "metadata": {
        "id": "xRkA8DkPajAg",
        "colab": {
          "base_uri": "https://localhost:8080/"
        },
        "outputId": "5d278f99-646b-4107-cede-b439bd9a0f18"
      },
      "execution_count": 2,
      "outputs": [
        {
          "name": "stdout",
          "output_type": "stream",
          "text": [
            "··········\n"
          ]
        }
      ]
    },
    {
      "cell_type": "code",
      "source": [
        "your_tenant_name = input()\n",
        "your_namespace = input()\n"
      ],
      "metadata": {
        "colab": {
          "base_uri": "https://localhost:8080/"
        },
        "id": "fv8004IM0hX8",
        "outputId": "401da2e6-1276-4cb9-aabf-479de4508f44"
      },
      "execution_count": 6,
      "outputs": [
        {
          "name": "stdout",
          "output_type": "stream",
          "text": [
            "ykono\n",
            "default\n"
          ]
        }
      ]
    },
    {
      "cell_type": "code",
      "source": [
        "your_topic_name = input()"
      ],
      "metadata": {
        "colab": {
          "base_uri": "https://localhost:8080/"
        },
        "id": "-cmVcFlh1e5n",
        "outputId": "d1e64abc-add9-4585-868e-7ac2b8ba8987"
      },
      "execution_count": 10,
      "outputs": [
        {
          "name": "stdout",
          "output_type": "stream",
          "text": [
            "test\n"
          ]
        }
      ]
    },
    {
      "cell_type": "code",
      "source": [
        "topic_url = 'persistent://' + your_tenant_name + '/' + your_namespace + '/' + your_topic_name\n",
        "print(topic_url)"
      ],
      "metadata": {
        "colab": {
          "base_uri": "https://localhost:8080/"
        },
        "id": "kw9AnqTu07eS",
        "outputId": "6df57ac0-98c4-401b-dc41-ee61a3ff5cc8"
      },
      "execution_count": 11,
      "outputs": [
        {
          "output_type": "stream",
          "name": "stdout",
          "text": [
            "persistent://ykono/default/test\n"
          ]
        }
      ]
    },
    {
      "cell_type": "code",
      "source": [
        "subscription_name = input()"
      ],
      "metadata": {
        "id": "BqtZvXa0RnxK",
        "outputId": "766b4017-9a35-44ca-a3b8-53e334a5a015",
        "colab": {
          "base_uri": "https://localhost:8080/"
        }
      },
      "execution_count": 64,
      "outputs": [
        {
          "name": "stdout",
          "output_type": "stream",
          "text": [
            "subX\n"
          ]
        }
      ]
    },
    {
      "cell_type": "markdown",
      "source": [
        "## コンシューマー"
      ],
      "metadata": {
        "id": "UVE0pp8t16Yl"
      }
    },
    {
      "cell_type": "code",
      "source": [
        "import pulsar\n",
        "import time\n",
        "\n",
        "MODE_RUNNING = True\n",
        "\n",
        "client = pulsar.Client(service_url,\n",
        "                        authentication=pulsar.AuthenticationToken(token))\n",
        "\n",
        "consumer = client.subscribe(topic_url, subscription_name)\n",
        "\n",
        "\n",
        "try:\n",
        "    waitingForMsg = True\n",
        "    while waitingForMsg:\n",
        "        try:\n",
        "            msg = consumer.receive(2000)\n",
        "\n",
        "            try:\n",
        "                print(\"Received message '{}' id='{}'\".format(msg.data(), msg.message_id()))\n",
        "                # Acknowledging the message to remove from message backlog\n",
        "                consumer.acknowledge(msg)\n",
        "            except:\n",
        "                consumer.negative_acknowledge(msg)\n",
        "\n",
        "        except Exception as ex:\n",
        "            print(ex)\n",
        "            if MODE_RUNNING:\n",
        "                print(\"Still waiting for a message...\");\n",
        "            else:\n",
        "                print(\"Stop waiting for a message.\");\n",
        "                waitingForMsg = False\n",
        "        time.sleep(1)\n",
        "\n",
        "finally:\n",
        "  consumer.close()\n",
        "  client.close()"
      ],
      "metadata": {
        "colab": {
          "base_uri": "https://localhost:8080/",
          "height": 560
        },
        "id": "LbLUaNjg1_Be",
        "outputId": "1780e57e-a54e-4f86-a26a-8277308e2190"
      },
      "execution_count": 65,
      "outputs": [
        {
          "output_type": "stream",
          "name": "stdout",
          "text": [
            "Pulsar error: TimeOut\n",
            "Still waiting for a message...\n",
            "Pulsar error: TimeOut\n",
            "Still waiting for a message...\n",
            "Pulsar error: TimeOut\n",
            "Still waiting for a message...\n"
          ]
        },
        {
          "output_type": "error",
          "ename": "KeyboardInterrupt",
          "evalue": "ignored",
          "traceback": [
            "\u001b[0;31m---------------------------------------------------------------------------\u001b[0m",
            "\u001b[0;31mTimeout\u001b[0m                                   Traceback (most recent call last)",
            "\u001b[0;32m<ipython-input-65-4dcb40c44631>\u001b[0m in \u001b[0;36m<cell line: 12>\u001b[0;34m()\u001b[0m\n\u001b[1;32m     15\u001b[0m         \u001b[0;32mtry\u001b[0m\u001b[0;34m:\u001b[0m\u001b[0;34m\u001b[0m\u001b[0;34m\u001b[0m\u001b[0m\n\u001b[0;32m---> 16\u001b[0;31m             \u001b[0mmsg\u001b[0m \u001b[0;34m=\u001b[0m \u001b[0mconsumer\u001b[0m\u001b[0;34m.\u001b[0m\u001b[0mreceive\u001b[0m\u001b[0;34m(\u001b[0m\u001b[0;36m2000\u001b[0m\u001b[0;34m)\u001b[0m\u001b[0;34m\u001b[0m\u001b[0;34m\u001b[0m\u001b[0m\n\u001b[0m\u001b[1;32m     17\u001b[0m \u001b[0;34m\u001b[0m\u001b[0m\n",
            "\u001b[0;32m/usr/local/lib/python3.10/dist-packages/pulsar/__init__.py\u001b[0m in \u001b[0;36mreceive\u001b[0;34m(self, timeout_millis)\u001b[0m\n\u001b[1;32m   1384\u001b[0m             \u001b[0m_check_type\u001b[0m\u001b[0;34m(\u001b[0m\u001b[0mint\u001b[0m\u001b[0;34m,\u001b[0m \u001b[0mtimeout_millis\u001b[0m\u001b[0;34m,\u001b[0m \u001b[0;34m'timeout_millis'\u001b[0m\u001b[0;34m)\u001b[0m\u001b[0;34m\u001b[0m\u001b[0;34m\u001b[0m\u001b[0m\n\u001b[0;32m-> 1385\u001b[0;31m             \u001b[0mmsg\u001b[0m \u001b[0;34m=\u001b[0m \u001b[0mself\u001b[0m\u001b[0;34m.\u001b[0m\u001b[0m_consumer\u001b[0m\u001b[0;34m.\u001b[0m\u001b[0mreceive\u001b[0m\u001b[0;34m(\u001b[0m\u001b[0mtimeout_millis\u001b[0m\u001b[0;34m)\u001b[0m\u001b[0;34m\u001b[0m\u001b[0;34m\u001b[0m\u001b[0m\n\u001b[0m\u001b[1;32m   1386\u001b[0m \u001b[0;34m\u001b[0m\u001b[0m\n",
            "\u001b[0;31mTimeout\u001b[0m: Pulsar error: TimeOut",
            "\nDuring handling of the above exception, another exception occurred:\n",
            "\u001b[0;31mKeyboardInterrupt\u001b[0m                         Traceback (most recent call last)",
            "\u001b[0;32m<ipython-input-65-4dcb40c44631>\u001b[0m in \u001b[0;36m<cell line: 12>\u001b[0;34m()\u001b[0m\n\u001b[1;32m     14\u001b[0m     \u001b[0;32mwhile\u001b[0m \u001b[0mwaitingForMsg\u001b[0m\u001b[0;34m:\u001b[0m\u001b[0;34m\u001b[0m\u001b[0;34m\u001b[0m\u001b[0m\n\u001b[1;32m     15\u001b[0m         \u001b[0;32mtry\u001b[0m\u001b[0;34m:\u001b[0m\u001b[0;34m\u001b[0m\u001b[0;34m\u001b[0m\u001b[0m\n\u001b[0;32m---> 16\u001b[0;31m             \u001b[0mmsg\u001b[0m \u001b[0;34m=\u001b[0m \u001b[0mconsumer\u001b[0m\u001b[0;34m.\u001b[0m\u001b[0mreceive\u001b[0m\u001b[0;34m(\u001b[0m\u001b[0;36m2000\u001b[0m\u001b[0;34m)\u001b[0m\u001b[0;34m\u001b[0m\u001b[0;34m\u001b[0m\u001b[0m\n\u001b[0m\u001b[1;32m     17\u001b[0m \u001b[0;34m\u001b[0m\u001b[0m\n\u001b[1;32m     18\u001b[0m             \u001b[0;32mtry\u001b[0m\u001b[0;34m:\u001b[0m\u001b[0;34m\u001b[0m\u001b[0;34m\u001b[0m\u001b[0m\n",
            "\u001b[0;31mKeyboardInterrupt\u001b[0m: "
          ]
        }
      ]
    },
    {
      "cell_type": "markdown",
      "source": [
        "## アンサブスクライブ"
      ],
      "metadata": {
        "id": "mGTuh1GHSRYY"
      }
    },
    {
      "cell_type": "code",
      "source": [
        "client = pulsar.Client(service_url,\n",
        "                        authentication=pulsar.AuthenticationToken(token))\n",
        "\n",
        "consumer = client.subscribe(topic_url, subscription_name)\n",
        "consumer.unsubscribe()\n",
        "client.close()"
      ],
      "metadata": {
        "id": "H17TG4RwZYlc"
      },
      "execution_count": 66,
      "outputs": []
    },
    {
      "cell_type": "markdown",
      "source": [
        "## 参考資料\n",
        "\n",
        "https://pulsar.apache.org/api/python/3.3.x/pulsar.Client.html\n",
        "\n",
        "https://pulsar.apache.org/api/python/3.3.x/pulsar.Consumer.html"
      ],
      "metadata": {
        "id": "6pu-yv5jRXGL"
      }
    },
    {
      "cell_type": "code",
      "source": [],
      "metadata": {
        "id": "f95OyXf3SP-P"
      },
      "execution_count": null,
      "outputs": []
    }
  ]
}