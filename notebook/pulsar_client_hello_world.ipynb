{
  "nbformat": 4,
  "nbformat_minor": 0,
  "metadata": {
    "colab": {
      "provenance": [],
      "include_colab_link": true
    },
    "kernelspec": {
      "name": "python3",
      "display_name": "Python 3"
    },
    "language_info": {
      "name": "python"
    }
  },
  "cells": [
    {
      "cell_type": "markdown",
      "metadata": {
        "id": "view-in-github",
        "colab_type": "text"
      },
      "source": [
        "<a href=\"https://colab.research.google.com/github/YoshiyukiKono/pulsar-client-samples/blob/main/notebook/pulsar_client_hello_world.ipynb\" target=\"_parent\"><img src=\"https://colab.research.google.com/assets/colab-badge.svg\" alt=\"Open In Colab\"/></a>"
      ]
    },
    {
      "cell_type": "markdown",
      "source": [
        "# Pulsar クライアント Hello World!"
      ],
      "metadata": {
        "id": "vQoROq-Z4dXI"
      }
    },
    {
      "cell_type": "code",
      "source": [
        "!pip install pulsar-client"
      ],
      "metadata": {
        "colab": {
          "base_uri": "https://localhost:8080/"
        },
        "id": "GSMV-zHNZW8U",
        "outputId": "2a773b00-9244-45a4-eae5-c13c6b99c6ed"
      },
      "execution_count": 4,
      "outputs": [
        {
          "output_type": "stream",
          "name": "stdout",
          "text": [
            "Collecting pulsar-client\n",
            "  Downloading pulsar_client-3.3.0-cp310-cp310-manylinux_2_17_x86_64.manylinux2014_x86_64.whl (5.4 MB)\n",
            "\u001b[2K     \u001b[90m━━━━━━━━━━━━━━━━━━━━━━━━━━━━━━━━━━━━━━━━\u001b[0m \u001b[32m5.4/5.4 MB\u001b[0m \u001b[31m38.1 MB/s\u001b[0m eta \u001b[36m0:00:00\u001b[0m\n",
            "\u001b[?25hRequirement already satisfied: certifi in /usr/local/lib/python3.10/dist-packages (from pulsar-client) (2023.7.22)\n",
            "Installing collected packages: pulsar-client\n",
            "Successfully installed pulsar-client-3.3.0\n"
          ]
        }
      ]
    },
    {
      "cell_type": "code",
      "source": [
        "service_url = input()"
      ],
      "metadata": {
        "id": "GHCnV6Muaix-",
        "outputId": "59d9bc46-38a9-46ba-bd95-ccc3ed478ea5",
        "colab": {
          "base_uri": "https://localhost:8080/"
        }
      },
      "execution_count": 1,
      "outputs": [
        {
          "output_type": "stream",
          "name": "stdout",
          "text": [
            "pulsar+ssl://pulsar-gcp-australiase1.streaming.datastax.com:6651\n",
            "pulsar+ssl://pulsar-gcp-australiase1.streaming.datastax.com:6651\n"
          ]
        }
      ]
    },
    {
      "cell_type": "code",
      "source": [
        "import getpass\n",
        "\n",
        "token = getpass.getpass()"
      ],
      "metadata": {
        "id": "xRkA8DkPajAg",
        "outputId": "5d278f99-646b-4107-cede-b439bd9a0f18",
        "colab": {
          "base_uri": "https://localhost:8080/"
        }
      },
      "execution_count": 2,
      "outputs": [
        {
          "name": "stdout",
          "output_type": "stream",
          "text": [
            "··········\n"
          ]
        }
      ]
    },
    {
      "cell_type": "code",
      "source": [
        "your_tenant_name = input()\n",
        "your_namespace = input()\n"
      ],
      "metadata": {
        "id": "fv8004IM0hX8",
        "outputId": "401da2e6-1276-4cb9-aabf-479de4508f44",
        "colab": {
          "base_uri": "https://localhost:8080/"
        }
      },
      "execution_count": 6,
      "outputs": [
        {
          "name": "stdout",
          "output_type": "stream",
          "text": [
            "ykono\n",
            "default\n"
          ]
        }
      ]
    },
    {
      "cell_type": "code",
      "source": [
        "your_topic_name = input()"
      ],
      "metadata": {
        "id": "-cmVcFlh1e5n",
        "outputId": "d1e64abc-add9-4585-868e-7ac2b8ba8987",
        "colab": {
          "base_uri": "https://localhost:8080/"
        }
      },
      "execution_count": 10,
      "outputs": [
        {
          "name": "stdout",
          "output_type": "stream",
          "text": [
            "test\n"
          ]
        }
      ]
    },
    {
      "cell_type": "code",
      "source": [
        "topic_url = 'persistent://' + your_tenant_name + '/' + your_namespace + '/' + your_topic_name\n",
        "print(topic_url)"
      ],
      "metadata": {
        "id": "kw9AnqTu07eS",
        "outputId": "6df57ac0-98c4-401b-dc41-ee61a3ff5cc8",
        "colab": {
          "base_uri": "https://localhost:8080/"
        }
      },
      "execution_count": 11,
      "outputs": [
        {
          "output_type": "stream",
          "name": "stdout",
          "text": [
            "persistent://ykono/default/test\n"
          ]
        }
      ]
    },
    {
      "cell_type": "markdown",
      "source": [
        "## プロデューサー"
      ],
      "metadata": {
        "id": "q9xRDdkn4aAA"
      }
    },
    {
      "cell_type": "code",
      "source": [
        "import pulsar\n",
        "\n",
        "client = pulsar.Client(service_url,\n",
        "                        authentication=pulsar.AuthenticationToken(token))\n",
        "\n",
        "producer = client.create_producer(topic_url)\n",
        "\n",
        "for i in range(10):\n",
        "    producer.send(('Hello World! %d' % i).encode('utf-8'))\n",
        "\n",
        "client.close()"
      ],
      "metadata": {
        "id": "L2KKIDI31QSr"
      },
      "execution_count": 47,
      "outputs": []
    },
    {
      "cell_type": "markdown",
      "source": [
        "## コンシューマー"
      ],
      "metadata": {
        "id": "UVE0pp8t16Yl"
      }
    },
    {
      "cell_type": "code",
      "source": [
        "import pulsar\n",
        "import time\n",
        "\n",
        "MODE_RUNNING = True\n",
        "\n",
        "subscription_name = 'sub'\n",
        "\n",
        "\n",
        "client = pulsar.Client(service_url,\n",
        "                        authentication=pulsar.AuthenticationToken(token))\n",
        "\n",
        "consumer = client.subscribe(topic_url, subscription_name)\n",
        "\n",
        "\n",
        "try:\n",
        "    waitingForMsg = True\n",
        "    while waitingForMsg:\n",
        "        try:\n",
        "            msg = consumer.receive(2000)\n",
        "            print(\"Received message '{}' id='{}'\".format(msg.data(), msg.message_id()))\n",
        "\n",
        "            # Acknowledging the message to remove from message backlog\n",
        "            consumer.acknowledge(msg)\n",
        "\n",
        "        except Exception as ex:\n",
        "            print(ex)\n",
        "            if MODE_RUNNING:\n",
        "                print(\"Still waiting for a message...\");\n",
        "            else:\n",
        "                print(\"Stop waiting for a message.\");\n",
        "                waitingForMsg = False\n",
        "        time.sleep(1)\n",
        "\n",
        "finally:\n",
        "  consumer.unsubscribe()\n",
        "  client.close()"
      ],
      "metadata": {
        "id": "LbLUaNjg1_Be"
      },
      "execution_count": null,
      "outputs": []
    },
    {
      "cell_type": "code",
      "source": [],
      "metadata": {
        "id": "H17TG4RwZYlc"
      },
      "execution_count": null,
      "outputs": []
    }
  ]
}